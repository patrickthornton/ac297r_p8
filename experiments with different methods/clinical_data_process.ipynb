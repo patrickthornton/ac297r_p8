{
  "nbformat": 4,
  "nbformat_minor": 0,
  "metadata": {
    "colab": {
      "provenance": []
    },
    "kernelspec": {
      "name": "python3",
      "display_name": "Python 3"
    },
    "language_info": {
      "name": "python"
    }
  },
  "cells": [
    {
      "cell_type": "code",
      "execution_count": null,
      "metadata": {
        "id": "nG3MRvL9MWq6"
      },
      "outputs": [],
      "source": [
        "import os\n",
        "import pandas as pd\n",
        "import json\n",
        "from sklearn.model_selection import train_test_split\n",
        "from google.colab import drive\n",
        "drive.mount('/content/drive')\n",
        "\n",
        "excel_path = \"/content/drive/MyDrive/BMI Photos/SMA-Harvard-Capstone_Data Extract.xlsx\"\n",
        "image_folder = \"/content/drive/MyDrive/BMI Photos/\"\n",
        "\n",
        "# Read the Excel file and clean column names\n",
        "df = pd.read_excel(excel_path)\n",
        "df.columns = [str(c).strip() for c in df.columns]\n",
        "\n",
        "id_col = \"Participant ID\"\n",
        "week_col = \"Timepoint\"\n",
        "bmi_col = df.columns[5]\n",
        "\n",
        "samples = []\n",
        "for i, row in df.iterrows():\n",
        "    subject = str(row[id_col]).strip()\n",
        "    week = str(row[week_col]).strip()\n",
        "    bmi = float(row[bmi_col]) if pd.notna(row[bmi_col]) else None\n",
        "    img_prefix = f\"{subject}_{week}\"\n",
        "    image_paths = []\n",
        "    # Construct file paths for 3 images (jpg or png)\n",
        "    for idx in range(1, 4):\n",
        "        candidate_jpg = os.path.join(image_folder, f\"{img_prefix} ({idx}).jpg\")\n",
        "        candidate_png = os.path.join(image_folder, f\"{img_prefix} ({idx}).png\")\n",
        "        if os.path.exists(candidate_jpg):\n",
        "            image_paths.append(candidate_jpg)\n",
        "        elif os.path.exists(candidate_png):\n",
        "            image_paths.append(candidate_png)\n",
        "    # Only retain samples with exactly 3 images and valid BMI\n",
        "    if len(image_paths) == 3 and bmi is not None:\n",
        "        samples.append({\n",
        "            \"subject\": subject,\n",
        "            \"week\": week,\n",
        "            \"bmi\": bmi,\n",
        "            \"img_paths\": image_paths\n",
        "        })\n",
        "\n",
        "# Split the data based on 'subject' so that all samples of one person remain in the same split\n",
        "unique_subjects = sorted(list(set([s[\"subject\"] for s in samples])))\n",
        "train_ids, val_ids = train_test_split(unique_subjects, test_size=0.2, random_state=42)\n",
        "for s in samples:\n",
        "    s[\"split\"] = \"Training\" if s[\"subject\"] in train_ids else \"Validation\"\n",
        "\n",
        "output_json = \"/content/drive/MyDrive/sample_list.json\"\n",
        "with open(output_json, \"w\") as f:\n",
        "    json.dump(samples, f)\n",
        "\n",
        "# The following visualization is for data preview only and does not affect JSON creation.\n",
        "pd.DataFrame(samples[:5])\n"
      ]
    },
    {
      "cell_type": "code",
      "source": [
        "import os\n",
        "import json\n",
        "import pandas as pd\n",
        "import seaborn as sns\n",
        "import matplotlib.pyplot as plt\n",
        "from google.colab import drive\n",
        "\n",
        "drive.mount('/content/drive')\n",
        "\n",
        "# Load BMI data from the JSON sample list\n",
        "with open(\"/content/drive/MyDrive/sample_list.json\", \"r\") as f:\n",
        "    samples = json.load(f)\n",
        "bmi_json = [s[\"bmi\"] for s in samples]\n",
        "df_json = pd.DataFrame({\"BMI\": bmi_json, \"Source\": \"JSON\"})\n",
        "\n",
        "# Load BMI data from the original Excel file (using the 5th column by default)\n",
        "excel_path = \"/content/drive/MyDrive/BMI Photos/SMA-Harvard-Capstone_Data Extract.xlsx\"\n",
        "df_excel_raw = pd.read_excel(excel_path)\n",
        "bmi_excel = df_excel_raw.iloc[:, 5].dropna().astype(float).tolist()\n",
        "df_excel = pd.DataFrame({\"BMI\": bmi_excel, \"Source\": \"Excel\"})\n",
        "\n",
        "# Merge the two data sources\n",
        "df_all = pd.concat([df_json, df_excel], ignore_index=True)\n",
        "\n",
        "# Print basic statistics\n",
        "print(\"JSON BMI Stats:\")\n",
        "print(df_json[\"BMI\"].describe(percentiles=[.25, .5, .75, .9, .95]))\n",
        "print(\"\\nExcel BMI Stats:\")\n",
        "print(df_excel[\"BMI\"].describe(percentiles=[.25, .5, .75, .9, .95]))\n",
        "\n",
        "# Visualize the BMI distribution\n",
        "plt.figure(figsize=(10, 5))\n",
        "sns.histplot(data=df_all, x=\"BMI\", hue=\"Source\", bins=30, kde=True, element=\"step\", common_norm=False)\n",
        "plt.title(\"BMI Distribution: JSON vs Excel\")\n",
        "plt.xlabel(\"BMI\")\n",
        "plt.ylabel(\"Count\")\n",
        "plt.grid(True)\n",
        "plt.tight_layout()\n",
        "plt.show()\n"
      ],
      "metadata": {
        "id": "GdedEynpDLfl"
      },
      "execution_count": null,
      "outputs": []
    },
    {
      "cell_type": "code",
      "source": [],
      "metadata": {
        "id": "BHRv83yyDLiq"
      },
      "execution_count": null,
      "outputs": []
    },
    {
      "cell_type": "code",
      "source": [],
      "metadata": {
        "id": "F1SacDcXDLlE"
      },
      "execution_count": null,
      "outputs": []
    }
  ]
}